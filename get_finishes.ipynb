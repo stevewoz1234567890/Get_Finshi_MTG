{
 "cells": [
  {
   "cell_type": "code",
   "execution_count": 1,
   "id": "198ee1de-0e30-4dbb-9566-6a31caccf901",
   "metadata": {},
   "outputs": [],
   "source": [
    "import json"
   ]
  },
  {
   "cell_type": "code",
   "execution_count": 4,
   "id": "5771f862-f3d1-4d3f-960c-0a2da86d9c8e",
   "metadata": {},
   "outputs": [],
   "source": [
    "with open('AllIdentifiers.json', encoding='utf-8') as f:\n",
    "    data = json.load(f)"
   ]
  },
  {
   "cell_type": "code",
   "execution_count": 5,
   "id": "6dafb332-8c47-4585-bb91-4d8d788217dd",
   "metadata": {},
   "outputs": [
    {
     "data": {
      "text/plain": [
       "dict"
      ]
     },
     "execution_count": 5,
     "metadata": {},
     "output_type": "execute_result"
    }
   ],
   "source": [
    "type(data)"
   ]
  },
  {
   "cell_type": "code",
   "execution_count": 6,
   "id": "8fa60403-ea8d-4fb4-bb89-b3dff7173329",
   "metadata": {},
   "outputs": [
    {
     "data": {
      "text/plain": [
       "dict_keys(['meta', 'data'])"
      ]
     },
     "execution_count": 6,
     "metadata": {},
     "output_type": "execute_result"
    }
   ],
   "source": [
    "data.keys()"
   ]
  },
  {
   "cell_type": "code",
   "execution_count": 7,
   "id": "83a7f954-ba29-4eef-83bc-8ea3bbf10d0e",
   "metadata": {},
   "outputs": [
    {
     "data": {
      "text/plain": [
       "{'date': '2024-03-04', 'version': '5.2.2+20240304'}"
      ]
     },
     "execution_count": 7,
     "metadata": {},
     "output_type": "execute_result"
    }
   ],
   "source": [
    "data['meta']"
   ]
  },
  {
   "cell_type": "code",
   "execution_count": 8,
   "id": "8fd152a4-5567-4629-ac14-bca3de58b423",
   "metadata": {
    "scrolled": true
   },
   "outputs": [
    {
     "data": {
      "text/plain": [
       "dict"
      ]
     },
     "execution_count": 8,
     "metadata": {},
     "output_type": "execute_result"
    }
   ],
   "source": [
    "type(data['data'])"
   ]
  },
  {
   "cell_type": "code",
   "execution_count": 10,
   "id": "7759129d-df70-46e3-b06c-ed78d56fe2f4",
   "metadata": {},
   "outputs": [],
   "source": [
    "keys = list(data['data'].keys())"
   ]
  },
  {
   "cell_type": "code",
   "execution_count": 36,
   "id": "dcc9000f-4601-47d7-9443-d3cf1a274459",
   "metadata": {},
   "outputs": [
    {
     "data": {
      "text/plain": [
       "['00010d56-fe38-5e35-8aed-518019aa36a5',\n",
       " '0001e0d0-2dcd-5640-aadc-a84765cf5fc9',\n",
       " '0003caab-9ff5-5d1a-bc06-976dd0457f19',\n",
       " '0003d249-25d9-5223-af1e-1130f09622a7',\n",
       " '0004a4fb-92c6-59b2-bdbe-ceb584a9e401',\n",
       " '00054115-b2b6-5e22-a694-76fc8639eeb2',\n",
       " '0005d268-3fd0-5424-bc6b-573ecd713aa1',\n",
       " '0005f481-f2d4-53fa-ba37-cfcf5a5f87f1',\n",
       " '0005fe8b-170d-5381-baaf-3d6bd58042f8',\n",
       " '0006172e-304e-5f7b-ba48-f21b8da92178']"
      ]
     },
     "execution_count": 36,
     "metadata": {},
     "output_type": "execute_result"
    }
   ],
   "source": [
    "keys[:10]"
   ]
  },
  {
   "cell_type": "code",
   "execution_count": 11,
   "id": "69b2eea2-461a-47f1-ba2b-b8d64a8ae136",
   "metadata": {},
   "outputs": [
    {
     "data": {
      "text/plain": [
       "dict"
      ]
     },
     "execution_count": 11,
     "metadata": {},
     "output_type": "execute_result"
    }
   ],
   "source": [
    "data = data['data']\n",
    "type(data[keys[0]])"
   ]
  },
  {
   "cell_type": "code",
   "execution_count": 12,
   "id": "79de5d97-8999-4b62-b651-9405850d47dd",
   "metadata": {},
   "outputs": [
    {
     "data": {
      "text/plain": [
       "dict_keys(['artist', 'artistIds', 'availability', 'borderColor', 'colorIdentity', 'colors', 'convertedManaCost', 'edhrecRank', 'edhrecSaltiness', 'finishes', 'flavorText', 'foreignData', 'frameVersion', 'hasFoil', 'hasNonFoil', 'identifiers', 'isPromo', 'isReprint', 'isStarter', 'keywords', 'language', 'layout', 'legalities', 'manaCost', 'manaValue', 'name', 'number', 'power', 'printings', 'promoTypes', 'purchaseUrls', 'rarity', 'rulings', 'securityStamp', 'setCode', 'subtypes', 'supertypes', 'text', 'toughness', 'type', 'types', 'uuid'])"
      ]
     },
     "execution_count": 12,
     "metadata": {},
     "output_type": "execute_result"
    }
   ],
   "source": [
    "data[keys[0]].keys()"
   ]
  },
  {
   "cell_type": "code",
   "execution_count": 13,
   "id": "6211a941-b911-4910-a350-19c6ebde3a8e",
   "metadata": {},
   "outputs": [
    {
     "data": {
      "text/plain": [
       "['foil']"
      ]
     },
     "execution_count": 13,
     "metadata": {},
     "output_type": "execute_result"
    }
   ],
   "source": [
    "data[keys[0]]['finishes']"
   ]
  },
  {
   "cell_type": "code",
   "execution_count": 14,
   "id": "93b120fc-cfd9-403f-8571-7ee0eda54f75",
   "metadata": {},
   "outputs": [
    {
     "data": {
      "text/plain": [
       "'00010d56-fe38-5e35-8aed-518019aa36a5'"
      ]
     },
     "execution_count": 14,
     "metadata": {},
     "output_type": "execute_result"
    }
   ],
   "source": [
    "keys[0]"
   ]
  },
  {
   "cell_type": "code",
   "execution_count": 15,
   "id": "edff2a5b-c532-4204-8703-ba50d95a1067",
   "metadata": {},
   "outputs": [],
   "source": [
    "import pandas as pd"
   ]
  },
  {
   "cell_type": "code",
   "execution_count": 16,
   "id": "187c759b-c511-4d80-8ca5-967c6e44c252",
   "metadata": {},
   "outputs": [
    {
     "name": "stderr",
     "output_type": "stream",
     "text": [
      "C:\\Users\\kk\\AppData\\Local\\Temp\\ipykernel_20924\\2506333350.py:2: DtypeWarning: Columns (8,9) have mixed types. Specify dtype option on import or set low_memory=False.\n",
      "  all = pd.read_csv('./cardIdentifiers.csv')\n"
     ]
    }
   ],
   "source": [
    "anxman = pd.read_csv('./items_cardkingdom_37.csv')\n",
    "all = pd.read_csv('./cardIdentifiers.csv')"
   ]
  },
  {
   "cell_type": "code",
   "execution_count": 17,
   "id": "79874911-e1ff-4b35-8193-80ec22e98092",
   "metadata": {},
   "outputs": [],
   "source": [
    "cardkingdom_scryfall_list = all[['cardKingdomEtchedId', 'cardKingdomFoilId', 'cardKingdomId', 'scryfallId']].values.tolist()"
   ]
  },
  {
   "cell_type": "code",
   "execution_count": 28,
   "id": "b6c358c6-cae7-45da-8e23-83ee8f8cf960",
   "metadata": {},
   "outputs": [
    {
     "data": {
      "text/plain": [
       "[[nan, nan, 122719.0, '7a5cd03c-4227-4551-aa4b-7d119f0468b5'],\n",
       " [nan, 123087.0, nan, '82072a1d-c1ab-4b4f-875f-d0591447e0a4'],\n",
       " [nan, nan, 122720.0, '8f7980d4-da43-4d6d-ad16-14b8a34ae91d'],\n",
       " [nan, 123088.0, nan, 'b0157252-6949-4f03-a15c-c168512123a8'],\n",
       " [nan, nan, 122721.0, 'a285aa3f-bcfb-4fc3-8441-85a56c72a3e4'],\n",
       " [nan, 123089.0, nan, 'e8e7f007-2fe3-47c2-aaa3-b8d084053bae'],\n",
       " [nan, 123090.0, 122722.0, 'f835ff5d-e03d-4a93-98bb-704eaa1e2b64'],\n",
       " [nan, nan, 122723.0, '6fa1f42f-1729-46ea-99c6-015d66c627d4'],\n",
       " [nan, 123091.0, nan, 'e72e26cb-c77a-4ba1-ba3d-e649bfab3d24'],\n",
       " [nan, 123092.0, 122724.0, 'ae635d18-5d22-494c-8bc7-5d52f3021cbb']]"
      ]
     },
     "execution_count": 28,
     "metadata": {},
     "output_type": "execute_result"
    }
   ],
   "source": [
    "cardkingdom_scryfall_list[:10]"
   ]
  },
  {
   "cell_type": "code",
   "execution_count": 18,
   "id": "c89022cb-43c7-479e-848b-e68497f5118e",
   "metadata": {},
   "outputs": [],
   "source": [
    "import math \n",
    "cardkingdom_scryfall = {}\n",
    "for _ in cardkingdom_scryfall_list:\n",
    "    if not math.isnan(_[0]):\n",
    "        cardkingdom_scryfall[int(_[0])] =_[-1] \n",
    "    if not math.isnan(_[1]):\n",
    "        cardkingdom_scryfall[int(_[1])] =_[-1]  \n",
    "    if not math.isnan(_[2]):\n",
    "        cardkingdom_scryfall[int(_[2])] =_[-1]  "
   ]
  },
  {
   "cell_type": "code",
   "execution_count": 30,
   "id": "87f0f063-2a94-4834-8907-f570bc4c2d97",
   "metadata": {},
   "outputs": [
    {
     "data": {
      "text/plain": [
       "[122719,\n",
       " 123087,\n",
       " 122720,\n",
       " 123088,\n",
       " 122721,\n",
       " 123089,\n",
       " 123090,\n",
       " 122722,\n",
       " 122723,\n",
       " 123091]"
      ]
     },
     "execution_count": 30,
     "metadata": {},
     "output_type": "execute_result"
    }
   ],
   "source": [
    "list(cardkingdom_scryfall.keys())[:10]"
   ]
  },
  {
   "cell_type": "code",
   "execution_count": 59,
   "id": "74b509cc-e604-417a-81d0-4997a1791261",
   "metadata": {},
   "outputs": [],
   "source": [
    "scryfall_uuid_list = all[['scryfallId', 'uuid']].values.tolist()"
   ]
  },
  {
   "cell_type": "code",
   "execution_count": 60,
   "id": "e21770fd-0012-4841-8a9b-9855149b428e",
   "metadata": {},
   "outputs": [
    {
     "data": {
      "text/plain": [
       "['7a5cd03c-4227-4551-aa4b-7d119f0468b5',\n",
       " '5f8287b1-5bb6-5f4c-ad17-316a40d5bb0c']"
      ]
     },
     "execution_count": 60,
     "metadata": {},
     "output_type": "execute_result"
    }
   ],
   "source": [
    "scryfall_uuid_list[0]"
   ]
  },
  {
   "cell_type": "code",
   "execution_count": 61,
   "id": "d6a2d3f9-699e-4d12-a3f4-d00c20114b42",
   "metadata": {},
   "outputs": [],
   "source": [
    "scryfall_uuid = {}\n",
    "for _ in scryfall_uuid_list:\n",
    "    scryfall_uuid[_[0]] = _[1]"
   ]
  },
  {
   "cell_type": "code",
   "execution_count": 40,
   "id": "fb3b352e-5037-4366-ba3b-67c97a9437e3",
   "metadata": {},
   "outputs": [],
   "source": [
    "def kingdom_scry(x):\n",
    "    try:\n",
    "        return data[scryfall_uuid[cardkingdom_scryfall[x]]]['finishes']\n",
    "    except:\n",
    "        return ''"
   ]
  },
  {
   "cell_type": "code",
   "execution_count": 62,
   "id": "150ec422-9fa9-4ff9-aa73-7c42ceab9836",
   "metadata": {},
   "outputs": [],
   "source": [
    "anxman['finishes'] = anxman['cardkingdom_id'].apply(kingdom_scry)"
   ]
  },
  {
   "cell_type": "code",
   "execution_count": 64,
   "id": "98061059-379b-43ab-8035-27aa1adc46b8",
   "metadata": {},
   "outputs": [
    {
     "data": {
      "text/plain": [
       "0                      [nonfoil]\n",
       "49               [nonfoil, foil]\n",
       "227                     [etched]\n",
       "604                             \n",
       "1041                      [foil]\n",
       "35114    [nonfoil, foil, etched]\n",
       "43475          [nonfoil, etched]\n",
       "65957             [foil, etched]\n",
       "91567          [nonfoil, signed]\n",
       "Name: finishes, dtype: object"
      ]
     },
     "execution_count": 64,
     "metadata": {},
     "output_type": "execute_result"
    }
   ],
   "source": [
    "anxman['finishes'].drop_duplicates()"
   ]
  },
  {
   "cell_type": "code",
   "execution_count": 37,
   "id": "585b1821-a959-4b3c-9dd6-ace3af2c36b6",
   "metadata": {},
   "outputs": [
    {
     "data": {
      "text/plain": [
       "False"
      ]
     },
     "execution_count": 37,
     "metadata": {},
     "output_type": "execute_result"
    }
   ],
   "source": [
    "anxman.to_csv('data.csv', index=False)"
   ]
  },
  {
   "cell_type": "code",
   "execution_count": null,
   "id": "3537c6d7-1b02-4aa5-b4d4-9edfd5d5e806",
   "metadata": {},
   "outputs": [],
   "source": []
  }
 ],
 "metadata": {
  "kernelspec": {
   "display_name": "Python 3 (ipykernel)",
   "language": "python",
   "name": "python3"
  },
  "language_info": {
   "codemirror_mode": {
    "name": "ipython",
    "version": 3
   },
   "file_extension": ".py",
   "mimetype": "text/x-python",
   "name": "python",
   "nbconvert_exporter": "python",
   "pygments_lexer": "ipython3",
   "version": "3.11.7"
  }
 },
 "nbformat": 4,
 "nbformat_minor": 5
}
